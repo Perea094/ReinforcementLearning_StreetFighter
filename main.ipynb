{
 "cells": [
  {
   "cell_type": "code",
   "execution_count": null,
   "metadata": {},
   "outputs": [],
   "source": [
    "import gym, retro\n",
    "print(\"gym:\", gym.__version__)    # should print 0.21.0\n",
    "print(\"retro:\", retro.__version__) # should print 0.8.0 (or whatever gym-retro version)\n"
   ]
  },
  {
   "cell_type": "code",
   "execution_count": null,
   "metadata": {},
   "outputs": [],
   "source": [
    "import os\n",
    "import sys\n",
    "\n",
    "print(f\"Python version: {sys.version}\")\n",
    "print(f\"Retro version: {retro.__version__ if hasattr(retro, '__version__') else 'Unknown'}\")"
   ]
  },
  {
   "cell_type": "code",
   "execution_count": null,
   "metadata": {},
   "outputs": [],
   "source": [
    "retro.data.list_games()\n"
   ]
  },
  {
   "cell_type": "code",
   "execution_count": null,
   "metadata": {},
   "outputs": [],
   "source": [
    "print(retro.__version__)\n",
    "print(gym.__version__)\n",
    "print(dir(retro))\n",
    "print(retro.get_romfile_system)"
   ]
  },
  {
   "cell_type": "code",
   "execution_count": null,
   "metadata": {},
   "outputs": [],
   "source": [
    "env = retro.make(game='StreetFighterIISpecialChampionEdition-Genesis')\n"
   ]
  },
  {
   "cell_type": "code",
   "execution_count": null,
   "metadata": {},
   "outputs": [],
   "source": [
    "# Reset gives the initial observation (first frame)\n",
    "obs = env.reset()\n",
    "print(\"Observation shape:\", getattr(obs, \"shape\", obs))\n",
    "\n",
    "done = False\n",
    "step = 0\n",
    "\n",
    "while not done and step < 100:\n",
    "    # Take random actions\n",
    "    action = env.action_space.sample()\n",
    "    obs, reward, done, info = env.step(action)\n",
    "\n",
    "    if step % 10 == 0:\n",
    "        print(f\"Step {step}, reward {reward}, done {done}\")\n",
    "\n",
    "    # Render to see the game window\n",
    "    env.render()\n",
    "    step += 1\n",
    "\n",
    "env.close()"
   ]
  },
  {
   "cell_type": "code",
   "execution_count": null,
   "metadata": {},
   "outputs": [],
   "source": [
    "import time\n",
    "obs = env.reset()\n",
    "print(\"Observation shape:\", getattr(obs, \"shape\", obs))\n",
    "\n",
    "done = False\n",
    "step = 0\n",
    "\n",
    "while not done and step < 100:\n",
    "    # Take random actions\n",
    "    time.sleep(0.1)  # Slow down for visibility\n",
    "    env.render()\n",
    "    step += 1\n",
    "\n",
    "env.close()"
   ]
  },
  {
   "cell_type": "code",
   "execution_count": null,
   "metadata": {},
   "outputs": [],
   "source": []
  }
 ],
 "metadata": {
  "kernelspec": {
   "display_name": "venv",
   "language": "python",
   "name": "python3"
  },
  "language_info": {
   "codemirror_mode": {
    "name": "ipython",
    "version": 3
   },
   "file_extension": ".py",
   "mimetype": "text/x-python",
   "name": "python",
   "nbconvert_exporter": "python",
   "pygments_lexer": "ipython3",
   "version": "3.8.10"
  }
 },
 "nbformat": 4,
 "nbformat_minor": 2
}
