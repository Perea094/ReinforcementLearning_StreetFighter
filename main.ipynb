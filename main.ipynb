{
 "cells": [
  {
   "cell_type": "code",
   "execution_count": null,
   "metadata": {},
   "outputs": [],
   "source": [
    "# Retro to play street fighter, gym to create the environment\n",
    "import gym, retro\n",
    "\n",
    "# in roms python -m retro.import .\n",
    "\n",
    "# import time to slow down the game\n",
    "import time\n",
    "\n",
    "# retrowrapper to create multiple environments in parallel execution\n",
    "\n",
    "# Check versions\n",
    "print(\"gym:\", gym.__version__)    # should print 0.21.0\n",
    "print(\"retro:\", retro.__version__) # should print 0.8.0 (or whatever gym-retro version)\n"
   ]
  },
  {
   "cell_type": "code",
   "execution_count": null,
   "metadata": {},
   "outputs": [],
   "source": [
    "import os\n",
    "import sys\n",
    "\n",
    "print(f\"Python version: {sys.version}\")\n",
    "print(f\"Retro version: {retro.__version__ if hasattr(retro, '__version__') else 'Unknown'}\")"
   ]
  },
  {
   "cell_type": "code",
   "execution_count": null,
   "metadata": {},
   "outputs": [],
   "source": [
    "retro.data.list_games()\n"
   ]
  },
  {
   "cell_type": "code",
   "execution_count": null,
   "metadata": {},
   "outputs": [],
   "source": [
    "print(retro.__version__)\n",
    "print(gym.__version__)\n",
    "print(dir(retro))\n",
    "print(retro.get_romfile_system)"
   ]
  },
  {
   "cell_type": "code",
   "execution_count": null,
   "metadata": {},
   "outputs": [],
   "source": [
    "# Starts up the game environment\n",
    "env = retro.make(game='StreetFighterIISpecialChampionEdition-Genesis')\n"
   ]
  },
  {
   "cell_type": "code",
   "execution_count": null,
   "metadata": {},
   "outputs": [],
   "source": [
    "env.observation_space"
   ]
  },
  {
   "cell_type": "code",
   "execution_count": null,
   "metadata": {},
   "outputs": [],
   "source": [
    "env.action_space\n",
    "\n",
    "# env.action_space.sample()\n",
    "\n",
    "# Example: [0, 0, 0, 0, 0, 0, 0, 1, 0, 0, 0, 0] means only the button \"B\" is pressed\n",
    "# 12 posible binary permutations (2^12 = 4096)\n"
   ]
  },
  {
   "cell_type": "code",
   "execution_count": null,
   "metadata": {},
   "outputs": [],
   "source": [
    "# Random agent that plays the game\n",
    "\n",
    "# Reset game to initial state\n",
    "obs = env.reset()\n",
    "\n",
    "done = False\n",
    "iterations = 1 #Modify to change number of games played\n",
    "\n",
    "for game in range(iterations):\n",
    "    while not done:\n",
    "        env.render()\n",
    "        obs, reward, done, info = env.step(env.action_space.sample())\n",
    "        # time.sleep(0.01) # Uncomment to slow down the game\n",
    "        print(reward, info, done)\n",
    "    obs = env.reset()   \n",
    "    done = False"
   ]
  },
  {
   "cell_type": "code",
   "execution_count": null,
   "metadata": {},
   "outputs": [],
   "source": [
    "# Parameters to consider\n",
    "info"
   ]
  },
  {
   "cell_type": "code",
   "execution_count": null,
   "metadata": {},
   "outputs": [],
   "source": [
    "# Setup Enviroment \n",
    "\n",
    "# Observation Preprocess - gray scale, frame delta, resize\n",
    "# Filter actions - parameter\n",
    "# Change Reward function \n",
    "\n",
    "\n",
    "# Import environment base class for a wrapper\n",
    "from gym import Env\n",
    "# Import the space shapes for the environment\n",
    "from gym.spaces import MultiBinary, Box\n",
    "# Import numpy to calculate frame delta\n",
    "import numpy as np\n",
    "# Import cv2 for gray scale \n",
    "import cv2\n",
    "# pip install opencv-python\n",
    "\n",
    "# Import matplotlib to plot images\n",
    "from matplotlib import pyplot as plt\n",
    "# pip install matplotlib"
   ]
  },
  {
   "cell_type": "code",
   "execution_count": null,
   "metadata": {},
   "outputs": [],
   "source": [
    "gray = cv2.cvtColor(obs, cv2.COLOR_BGR2GRAY)\n",
    "resize = cv2.resize(gray, (84, 84), interpolation=cv2.INTER_AREA)\n",
    "\n",
    "plt.imshow(cv2.cvtColor(resize, cv2.COLOR_BGR2RGB))"
   ]
  },
  {
   "cell_type": "code",
   "execution_count": null,
   "metadata": {},
   "outputs": [],
   "source": [
    "# Create custom environment\n",
    "class StreetFighter(Env):\n",
    "    def __init__(self):\n",
    "        super().__init__()\n",
    "        # Specify action and observation space\n",
    "        self.observation_space = Box(low=0, high=255, shape=(84, 84, 1), dtype=np.uint8)\n",
    "        self.action_space = MultiBinary(12)\n",
    "        # Start and instance the game\n",
    "        self.game = retro.make(game='StreetFighterIISpecialChampionEdition-Genesis',\n",
    "                               use_restricted_actions=retro.Actions.FILTERED)\n",
    "        \n",
    "    def reset(self):\n",
    "        # Return the first frame\n",
    "        obs = self.game.reset()\n",
    "        # Frame delta = Current frame - previous frame        \n",
    "        obs = self.preprocess(obs)\n",
    "\n",
    "        self.previouse_frame = obs\n",
    "        # Create an attribute to hold the score delta\n",
    "        self.score = 0\n",
    "\n",
    "        return obs\n",
    "\n",
    "    def preprocess(self, observation):\n",
    "        # Grayscaling\n",
    "        gray = cv2.cvtColor(observation, cv2.COLOR_BGR2GRAY)\n",
    "        # Resizing\n",
    "        resize = cv2.resize(gray, (84, 84), interpolation = cv2.INTER_CUBIC)\n",
    "\n",
    "        # Add the channels value\n",
    "        channels = np.reshape(resize, (84, 84, 1))\n",
    "\n",
    "        return channels\n",
    "\n",
    "    def step(self, action):\n",
    "        # Take a step \n",
    "        obs, reward, done, info = self.game.step(action)\n",
    "        obs = self.preprocess(obs)\n",
    "        # Frame delta = Current frame - previous frame\n",
    "        frame_delta = obs - self.previouse_frame\n",
    "        self.previouse_frame = obs\n",
    "\n",
    "        # Custom reward function\n",
    "        reward = info['score'] - self.score\n",
    "        self.score = info['score']\n",
    "\n",
    "        return frame_delta, reward, done, info\n",
    "\n",
    "    def render(self, *args, **kwargs):\n",
    "        self.game.render()\n",
    "\n",
    "    def close(self):\n",
    "        self.game.close()\n"
   ]
  },
  {
   "cell_type": "code",
   "execution_count": null,
   "metadata": {},
   "outputs": [],
   "source": [
    "env.close()"
   ]
  },
  {
   "cell_type": "code",
   "execution_count": null,
   "metadata": {},
   "outputs": [],
   "source": [
    "env = StreetFighter()"
   ]
  },
  {
   "cell_type": "code",
   "execution_count": null,
   "metadata": {},
   "outputs": [],
   "source": [
    "# Random agent that plays the game\n",
    "\n",
    "# Reset game to initial state\n",
    "obs = env.reset()\n",
    "\n",
    "done = False\n",
    "iterations = 5 #Modify to change number of games played\n",
    "\n",
    "for game in range(iterations):\n",
    "    while not done:\n",
    "        env.render()\n",
    "        obs, reward, done, info = env.step(env.action_space.sample())\n",
    "        # time.sleep(0.01) # Uncomment to slow down the game\n",
    "        if reward != 0:\n",
    "            print(reward, info, done)\n",
    "    obs = env.reset()   \n",
    "    done = False"
   ]
  },
  {
   "cell_type": "code",
   "execution_count": null,
   "metadata": {},
   "outputs": [],
   "source": []
  }
 ],
 "metadata": {
  "kernelspec": {
   "display_name": "venv",
   "language": "python",
   "name": "python3"
  },
  "language_info": {
   "codemirror_mode": {
    "name": "ipython",
    "version": 3
   },
   "file_extension": ".py",
   "mimetype": "text/x-python",
   "name": "python",
   "nbconvert_exporter": "python",
   "pygments_lexer": "ipython3",
   "version": "3.8.10"
  }
 },
 "nbformat": 4,
 "nbformat_minor": 2
}
